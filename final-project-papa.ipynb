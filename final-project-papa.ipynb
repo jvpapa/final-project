{
 "cells": [
  {
   "cell_type": "code",
   "execution_count": 1,
   "metadata": {
    "collapsed": true
   },
   "outputs": [],
   "source": [
    "# Load Pandas into Python\n",
    "import pandas as pd\n",
    "from matplotlib import pyplot as plt\n",
    " \n",
    "%matplotlib inline"
   ]
  },
  {
   "cell_type": "code",
   "execution_count": 2,
   "metadata": {
    "collapsed": true
   },
   "outputs": [],
   "source": [
    "# Read data\n",
    "users = pd.read_csv('prices-split-adjusted.csv')"
   ]
  },
  {
   "cell_type": "markdown",
   "metadata": {},
   "source": [
    "Examine for missing data\n",
    "Narrow down list of stocks for analysis"
   ]
  },
  {
   "cell_type": "code",
   "execution_count": 3,
   "metadata": {
    "collapsed": false
   },
   "outputs": [
    {
     "data": {
      "text/html": [
       "<div>\n",
       "<table border=\"1\" class=\"dataframe\">\n",
       "  <thead>\n",
       "    <tr style=\"text-align: right;\">\n",
       "      <th></th>\n",
       "      <th>date</th>\n",
       "      <th>symbol</th>\n",
       "      <th>open</th>\n",
       "      <th>close</th>\n",
       "      <th>low</th>\n",
       "      <th>high</th>\n",
       "      <th>volume</th>\n",
       "    </tr>\n",
       "  </thead>\n",
       "  <tbody>\n",
       "    <tr>\n",
       "      <th>0</th>\n",
       "      <td>2016-01-05</td>\n",
       "      <td>WLTW</td>\n",
       "      <td>123.430000</td>\n",
       "      <td>125.839996</td>\n",
       "      <td>122.309998</td>\n",
       "      <td>126.250000</td>\n",
       "      <td>2163600.0</td>\n",
       "    </tr>\n",
       "    <tr>\n",
       "      <th>1</th>\n",
       "      <td>2016-01-06</td>\n",
       "      <td>WLTW</td>\n",
       "      <td>125.239998</td>\n",
       "      <td>119.980003</td>\n",
       "      <td>119.940002</td>\n",
       "      <td>125.540001</td>\n",
       "      <td>2386400.0</td>\n",
       "    </tr>\n",
       "    <tr>\n",
       "      <th>2</th>\n",
       "      <td>2016-01-07</td>\n",
       "      <td>WLTW</td>\n",
       "      <td>116.379997</td>\n",
       "      <td>114.949997</td>\n",
       "      <td>114.930000</td>\n",
       "      <td>119.739998</td>\n",
       "      <td>2489500.0</td>\n",
       "    </tr>\n",
       "    <tr>\n",
       "      <th>3</th>\n",
       "      <td>2016-01-08</td>\n",
       "      <td>WLTW</td>\n",
       "      <td>115.480003</td>\n",
       "      <td>116.620003</td>\n",
       "      <td>113.500000</td>\n",
       "      <td>117.440002</td>\n",
       "      <td>2006300.0</td>\n",
       "    </tr>\n",
       "    <tr>\n",
       "      <th>4</th>\n",
       "      <td>2016-01-11</td>\n",
       "      <td>WLTW</td>\n",
       "      <td>117.010002</td>\n",
       "      <td>114.970001</td>\n",
       "      <td>114.089996</td>\n",
       "      <td>117.330002</td>\n",
       "      <td>1408600.0</td>\n",
       "    </tr>\n",
       "  </tbody>\n",
       "</table>\n",
       "</div>"
      ],
      "text/plain": [
       "         date symbol        open       close         low        high  \\\n",
       "0  2016-01-05   WLTW  123.430000  125.839996  122.309998  126.250000   \n",
       "1  2016-01-06   WLTW  125.239998  119.980003  119.940002  125.540001   \n",
       "2  2016-01-07   WLTW  116.379997  114.949997  114.930000  119.739998   \n",
       "3  2016-01-08   WLTW  115.480003  116.620003  113.500000  117.440002   \n",
       "4  2016-01-11   WLTW  117.010002  114.970001  114.089996  117.330002   \n",
       "\n",
       "      volume  \n",
       "0  2163600.0  \n",
       "1  2386400.0  \n",
       "2  2489500.0  \n",
       "3  2006300.0  \n",
       "4  1408600.0  "
      ]
     },
     "execution_count": 3,
     "metadata": {},
     "output_type": "execute_result"
    }
   ],
   "source": [
    "users.head()"
   ]
  },
  {
   "cell_type": "code",
   "execution_count": 14,
   "metadata": {
    "collapsed": false
   },
   "outputs": [
    {
     "data": {
      "text/plain": [
       "MTD     1762\n",
       "TSN     1762\n",
       "MMM     1762\n",
       "MMC     1762\n",
       "CELG    1762\n",
       "Name: symbol, dtype: int64"
      ]
     },
     "execution_count": 14,
     "metadata": {},
     "output_type": "execute_result"
    }
   ],
   "source": [
    "users['symbol'].value_counts().head()"
   ]
  },
  {
   "cell_type": "code",
   "execution_count": 7,
   "metadata": {
    "collapsed": false
   },
   "outputs": [
    {
     "name": "stdout",
     "output_type": "stream",
     "text": [
      "2016-12-30\n",
      "2010-01-04\n"
     ]
    }
   ],
   "source": [
    "print (users['date'].max())\n",
    "print (users['date'].min())\n"
   ]
  },
  {
   "cell_type": "markdown",
   "metadata": {},
   "source": [
    "Explore \"next day trading.\"  Open position (Buy/Sell) stock at close price. Close position during next trading day.\n",
    "Can we come up with a model that predicts consistent gains? What patterns if any can we find in historic data?  This is a short term model that does not look back far in history.  Does it work for random time samples/backtests?  Does it beat the market or would we have done better just trading SPX?\n",
    "\n",
    "Data Set: https://www.kaggle.com/camnugent/sandp500\n",
    "        S&P 500 Stocks OHLC data from Jan 4, 2010 - Dec 30, 2016\n",
    "Assumptions: Represents all trading days in sequence. No missing trading days.\n",
    "\n",
    "Cleaning Data:\n",
    "    Only include stocks that exist on first and last day of data set.  This eliminates need to worry about delisted stocks, mergers/acqisitions or S&P delisting, .  Try it without this first.  Note nature of S&P is large cap only and success in staying there presents some bias. (see class lecture)\n",
    "    Use stock adjusted data.  Accounts for stock splits and dividends?  Do we need this if we ignore outliers, these changes would only effect one day. \n",
    "\n",
    "Eliminate outliers (big moves). Do not trade when a big move is likely.  Assumption is that big moves can be avoided or do not occur often. Do not trade on earnings/election day, etc.\n",
    "\n",
    "EDA:\n",
    "Questions:\n",
    "Statistics for all stocks. Mean, Stdev\n",
    "1. Are certain days of the week more likely to be up or down?  Need to associate date with Day of Week.\n",
    "2. Is there a correlation with the Market - may need SPX data\n",
    "3. How do we group stocks (P/E, Sector) do we have fundamental data?\n",
    "4. Is there a releationship for months of the year? (like in class, bikes example for hours of day)  Is it consistent year to year?\n",
    "\n",
    "Model:\n",
    "Possible Feature Variables: \n",
    "% change from open to close - current day.\n",
    "% change from previous close\n",
    "3 day trend linear correlation\n",
    "\n",
    "Predict:\n",
    "% likely to open position (buy/sell)\n",
    "\n",
    "Test at random.\n"
   ]
  }
 ],
 "metadata": {
  "kernelspec": {
   "display_name": "Python 3",
   "language": "python",
   "name": "python3"
  },
  "language_info": {
   "codemirror_mode": {
    "name": "ipython",
    "version": 3
   },
   "file_extension": ".py",
   "mimetype": "text/x-python",
   "name": "python",
   "nbconvert_exporter": "python",
   "pygments_lexer": "ipython3",
   "version": "3.6.0"
  }
 },
 "nbformat": 4,
 "nbformat_minor": 2
}
