{
 "cells": [
  {
   "cell_type": "markdown",
   "metadata": {},
   "source": [
    "# Final Project, Part 3: Exploratory Data Analysis\n",
    "\n",
    "## Clean and analyze your data set.\n",
    "Exploratory data analysis is a crucial step in the data workflow. Create a Jupyter Notebook that explores your data both mathematically and visually. You should explore features, apply descriptive statistics, look at distributions, and determine how to handle sampling or any missing values.\n",
    "\n",
    "## Requirements\n",
    "\n",
    "Create an exploratory data analysis notebook.\n",
    "Include statistical analysis and EDA visualizations.\n",
    "Determine how to handle sampling or missing values.\n",
    "Submit or share EDA notebook as per your instructor's directions.\n"
   ]
  },
  {
   "cell_type": "code",
   "execution_count": 1,
   "metadata": {
    "scrolled": true
   },
   "outputs": [],
   "source": [
    "# Load Pandas into Python\n",
    "import pandas as pd\n",
    "from matplotlib import pyplot as plt\n",
    " \n",
    "%matplotlib inline"
   ]
  },
  {
   "cell_type": "code",
   "execution_count": 3,
   "metadata": {},
   "outputs": [],
   "source": [
    "# Read data\n",
    "data = pd.read_csv('Speed Dating Data.csv')"
   ]
  },
  {
   "cell_type": "code",
   "execution_count": 14,
   "metadata": {},
   "outputs": [
    {
     "name": "stdout",
     "output_type": "stream",
     "text": [
      "Shape is  (8378, 195)\n",
      "Missing values:  iid            0\n",
      "dec_o          0\n",
      "samerace       0\n",
      "match          0\n",
      "partner        0\n",
      "order          0\n",
      "position       0\n",
      "dec            0\n",
      "wave           0\n",
      "condtn         0\n",
      "idg            0\n",
      "gender         0\n",
      "round          0\n",
      "id             1\n",
      "pid           10\n",
      "race          63\n",
      "field         63\n",
      "race_o        73\n",
      "hiking        79\n",
      "dining        79\n",
      "exercise      79\n",
      "goal          79\n",
      "sports        79\n",
      "go_out        79\n",
      "museums       79\n",
      "attr2_1       79\n",
      "tvsports      79\n",
      "art           79\n",
      "tv            79\n",
      "clubbing      79\n",
      "            ... \n",
      "fun4_3      5419\n",
      "amb4_3      5419\n",
      "shar4_3     5419\n",
      "attr2_3     5419\n",
      "intel2_3    5419\n",
      "fun2_3      5419\n",
      "amb2_3      5419\n",
      "sinc2_3     5419\n",
      "intel4_3    5419\n",
      "shar2_3     6362\n",
      "intel5_3    6362\n",
      "attr5_3     6362\n",
      "amb7_3      6362\n",
      "fun7_3      6362\n",
      "intel7_3    6362\n",
      "sinc7_3     6362\n",
      "attr7_3     6362\n",
      "sinc5_3     6362\n",
      "fun5_3      6362\n",
      "shar7_3     6362\n",
      "amb5_3      6362\n",
      "attr7_2     6394\n",
      "fun7_2      6394\n",
      "intel7_2    6394\n",
      "shar7_2     6404\n",
      "amb7_2      6423\n",
      "sinc7_2     6423\n",
      "expnum      6578\n",
      "numdat_3    6882\n",
      "num_in_3    7710\n",
      "Length: 195, dtype: int64\n"
     ]
    },
    {
     "data": {
      "text/plain": [
       "<matplotlib.axes._subplots.AxesSubplot at 0xbd94eb8>"
      ]
     },
     "execution_count": 14,
     "metadata": {},
     "output_type": "execute_result"
    },
    {
     "data": {
      "image/png": "[encoded data removed]",
      "text/plain": [
       "<matplotlib.figure.Figure at 0xb87a6d8>"
      ]
     },
     "metadata": {},
     "output_type": "display_data"
    }
   ],
   "source": [
    "print \"Shape is \", data.shape\n",
    "print \"Missing values: \", data.isnull().sum().sort_values()\n",
    "data.isnull().sum().plot(kind='bar')\n"
   ]
  },
  {
   "cell_type": "markdown",
   "metadata": {},
   "source": [
    "Alot of data is missing.  \n",
    "\n",
    "Let's determine what features we will keep and how we will handle missing data."
   ]
  },
  {
   "cell_type": "markdown",
   "metadata": {},
   "source": [
    "Conclusions About Data"
   ]
  },
  {
   "cell_type": "markdown",
   "metadata": {},
   "source": [
    "Clean Up Data & Preprocess"
   ]
  },
  {
   "cell_type": "code",
   "execution_count": 23,
   "metadata": {},
   "outputs": [
    {
     "name": "stdout",
     "output_type": "stream",
     "text": [
      "There are 551 unique participants.\n",
      "\n",
      "With between 5 and 22 dates each.\n"
     ]
    }
   ],
   "source": [
    "#How many participants? How many dates did each one have?\n",
    "print \"There are\", len(data.iid.unique()), \"unique participants.\\n\"\n",
    "print \"With between\", data.iid.value_counts().min(), \"and\", data.iid.value_counts().max(), \"dates each.\""
   ]
  },
  {
   "cell_type": "code",
   "execution_count": null,
   "metadata": {
    "collapsed": true
   },
   "outputs": [],
   "source": [
    "# Maybe do a sorted bar chart broken down by male/female for number of dates\n"
   ]
  },
  {
   "cell_type": "code",
   "execution_count": 24,
   "metadata": {
    "collapsed": true
   },
   "outputs": [],
   "source": [
    "#plot Attractive vs match vs second date\n",
    "# how correlated are they?\n"
   ]
  },
  {
   "cell_type": "code",
   "execution_count": 25,
   "metadata": {},
   "outputs": [
    {
     "ename": "SyntaxError",
     "evalue": "invalid syntax (<ipython-input-25-57c4cc72698e>, line 4)",
     "output_type": "error",
     "traceback": [
      "\u001b[1;36m  File \u001b[1;32m\"<ipython-input-25-57c4cc72698e>\"\u001b[1;36m, line \u001b[1;32m4\u001b[0m\n\u001b[1;33m    1: what you look for\u001b[0m\n\u001b[1;37m     ^\u001b[0m\n\u001b[1;31mSyntaxError\u001b[0m\u001b[1;31m:\u001b[0m invalid syntax\n"
     ]
    }
   ],
   "source": [
    "#Will need to normalize attr,sinc,intel,fun,amb,shar columns. \\\n",
    "# Waves 6-9, used 1-10 scale\n",
    "# Waves 1-5, 10-21 Used 100 points\n",
    "1: what you look for\n",
    "2: what opp sex looks for\n",
    "3: how do you measure up\n",
    "4: what do fellow male/females look for\n",
    "5: how do others perceive you\n",
    "\n",
    "#1 & 3 are repeated half way through dates, any different?    \n",
    "Time 2: day after, any different?\n",
    "Time 3: 3-4 weeks after, any different?"
   ]
  },
  {
   "cell_type": "code",
   "execution_count": null,
   "metadata": {
    "collapsed": true
   },
   "outputs": [],
   "source": []
  }
 ],
 "metadata": {
  "kernelspec": {
   "display_name": "Python 2",
   "language": "python",
   "name": "python2"
  },
  "language_info": {
   "codemirror_mode": {
    "name": "ipython",
    "version": 2
   },
   "file_extension": ".py",
   "mimetype": "text/x-python",
   "name": "python",
   "nbconvert_exporter": "python",
   "pygments_lexer": "ipython2",
   "version": "2.7.13"
  }
 },
 "nbformat": 4,
 "nbformat_minor": 2
}
